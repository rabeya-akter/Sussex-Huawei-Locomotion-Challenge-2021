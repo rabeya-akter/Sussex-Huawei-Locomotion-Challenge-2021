{
  "nbformat": 4,
  "nbformat_minor": 0,
  "metadata": {
    "colab": {
      "name": "Getting Final Prediction File Ready .ipynb",
      "provenance": [],
      "collapsed_sections": [],
      "machine_shape": "hm"
    },
    "kernelspec": {
      "display_name": "Python 3",
      "name": "python3"
    }
  },
  "cells": [
    {
      "cell_type": "code",
      "metadata": {
        "colab": {
          "base_uri": "https://localhost:8080/"
        },
        "id": "ZnLAMVWnxgKg",
        "outputId": "b8b0157c-c6d0-4439-dba7-c9228a36cb63"
      },
      "source": [
        "from google.colab import drive\n",
        "drive.mount('/content/drive/')\n",
        "import numpy as np\n",
        "import pandas as pd"
      ],
      "execution_count": null,
      "outputs": [
        {
          "output_type": "stream",
          "text": [
            "Mounted at /content/drive/\n"
          ],
          "name": "stdout"
        }
      ]
    },
    {
      "cell_type": "code",
      "metadata": {
        "colab": {
          "base_uri": "https://localhost:8080/",
          "height": 220
        },
        "id": "7UZdBeRa2td4",
        "outputId": "38248230-417c-4a9d-a530-03fe57d0596e"
      },
      "source": [
        "Final_label=pd.read_csv(\"/content/drive/MyDrive/SHL 2021/Test/Label/Label.csv\")\n",
        "Final_label['Label']=-1\n",
        "print(len(Final_label))\n",
        "Final_label.head()"
      ],
      "execution_count": null,
      "outputs": [
        {
          "output_type": "stream",
          "text": [
            "671172\n"
          ],
          "name": "stdout"
        },
        {
          "output_type": "execute_result",
          "data": {
            "text/html": [
              "<div>\n",
              "<style scoped>\n",
              "    .dataframe tbody tr th:only-of-type {\n",
              "        vertical-align: middle;\n",
              "    }\n",
              "\n",
              "    .dataframe tbody tr th {\n",
              "        vertical-align: top;\n",
              "    }\n",
              "\n",
              "    .dataframe thead th {\n",
              "        text-align: right;\n",
              "    }\n",
              "</style>\n",
              "<table border=\"1\" class=\"dataframe\">\n",
              "  <thead>\n",
              "    <tr style=\"text-align: right;\">\n",
              "      <th></th>\n",
              "      <th>Epoch time[ms]</th>\n",
              "      <th>Label</th>\n",
              "    </tr>\n",
              "  </thead>\n",
              "  <tbody>\n",
              "    <tr>\n",
              "      <th>0</th>\n",
              "      <td>2496835246000</td>\n",
              "      <td>-1</td>\n",
              "    </tr>\n",
              "    <tr>\n",
              "      <th>1</th>\n",
              "      <td>2496835247000</td>\n",
              "      <td>-1</td>\n",
              "    </tr>\n",
              "    <tr>\n",
              "      <th>2</th>\n",
              "      <td>2496835248000</td>\n",
              "      <td>-1</td>\n",
              "    </tr>\n",
              "    <tr>\n",
              "      <th>3</th>\n",
              "      <td>2496835249000</td>\n",
              "      <td>-1</td>\n",
              "    </tr>\n",
              "    <tr>\n",
              "      <th>4</th>\n",
              "      <td>2496835250000</td>\n",
              "      <td>-1</td>\n",
              "    </tr>\n",
              "  </tbody>\n",
              "</table>\n",
              "</div>"
            ],
            "text/plain": [
              "   Epoch time[ms]  Label\n",
              "0   2496835246000     -1\n",
              "1   2496835247000     -1\n",
              "2   2496835248000     -1\n",
              "3   2496835249000     -1\n",
              "4   2496835250000     -1"
            ]
          },
          "metadata": {
            "tags": []
          },
          "execution_count": 2
        }
      ]
    },
    {
      "cell_type": "markdown",
      "metadata": {
        "id": "XV_7sFd92pyN"
      },
      "source": [
        "#Location"
      ]
    },
    {
      "cell_type": "code",
      "metadata": {
        "colab": {
          "base_uri": "https://localhost:8080/",
          "height": 203
        },
        "id": "Nrbnx74exqJa",
        "outputId": "8da71458-315f-41f1-ab42-edeb3160f87e"
      },
      "source": [
        "location_test=pd.read_csv(\"/content/drive/MyDrive/SHL 2021/Test/Location/Location- gonna give label.csv\",low_memory=False)\n",
        "location_prediction=pd.read_csv(\"/content/drive/MyDrive/SHL 2021/Test/Label/Location_Prediction.csv\")\n",
        "location_test.head()"
      ],
      "execution_count": null,
      "outputs": [
        {
          "output_type": "execute_result",
          "data": {
            "text/html": [
              "<div>\n",
              "<style scoped>\n",
              "    .dataframe tbody tr th:only-of-type {\n",
              "        vertical-align: middle;\n",
              "    }\n",
              "\n",
              "    .dataframe tbody tr th {\n",
              "        vertical-align: top;\n",
              "    }\n",
              "\n",
              "    .dataframe thead th {\n",
              "        text-align: right;\n",
              "    }\n",
              "</style>\n",
              "<table border=\"1\" class=\"dataframe\">\n",
              "  <thead>\n",
              "    <tr style=\"text-align: right;\">\n",
              "      <th></th>\n",
              "      <th>Epoch time[ms]</th>\n",
              "      <th>Ignore1</th>\n",
              "      <th>Ignore2</th>\n",
              "      <th>Accuracy of this location[m]</th>\n",
              "      <th>Latitude[degrees]</th>\n",
              "      <th>Longitude[degrees]</th>\n",
              "      <th>Altitude[m]</th>\n",
              "      <th>ache=1+nai=0</th>\n",
              "    </tr>\n",
              "  </thead>\n",
              "  <tbody>\n",
              "    <tr>\n",
              "      <th>0</th>\n",
              "      <td>2496835324100</td>\n",
              "      <td>1038815559613</td>\n",
              "      <td>120570372255</td>\n",
              "      <td>400.0</td>\n",
              "      <td>50.866564</td>\n",
              "      <td>-0.085024</td>\n",
              "      <td>104.212435</td>\n",
              "      <td>1</td>\n",
              "    </tr>\n",
              "    <tr>\n",
              "      <th>1</th>\n",
              "      <td>2496835325624</td>\n",
              "      <td>1040354089821</td>\n",
              "      <td>120570372255</td>\n",
              "      <td>96.0</td>\n",
              "      <td>50.866559</td>\n",
              "      <td>-0.085056</td>\n",
              "      <td>103.841576</td>\n",
              "      <td>1</td>\n",
              "    </tr>\n",
              "    <tr>\n",
              "      <th>2</th>\n",
              "      <td>2496835326630</td>\n",
              "      <td>1041356676279</td>\n",
              "      <td>120570372255</td>\n",
              "      <td>64.0</td>\n",
              "      <td>50.866547</td>\n",
              "      <td>-0.085148</td>\n",
              "      <td>104.008815</td>\n",
              "      <td>1</td>\n",
              "    </tr>\n",
              "    <tr>\n",
              "      <th>3</th>\n",
              "      <td>2496835327632</td>\n",
              "      <td>1042359188258</td>\n",
              "      <td>120570372255</td>\n",
              "      <td>64.0</td>\n",
              "      <td>50.866538</td>\n",
              "      <td>-0.085241</td>\n",
              "      <td>104.000552</td>\n",
              "      <td>1</td>\n",
              "    </tr>\n",
              "    <tr>\n",
              "      <th>4</th>\n",
              "      <td>2496835328636</td>\n",
              "      <td>1043364980445</td>\n",
              "      <td>120570372255</td>\n",
              "      <td>64.0</td>\n",
              "      <td>50.866518</td>\n",
              "      <td>-0.085358</td>\n",
              "      <td>103.942761</td>\n",
              "      <td>1</td>\n",
              "    </tr>\n",
              "  </tbody>\n",
              "</table>\n",
              "</div>"
            ],
            "text/plain": [
              "   Epoch time[ms]        Ignore1  ...  Altitude[m]  ache=1+nai=0\n",
              "0   2496835324100  1038815559613  ...   104.212435             1\n",
              "1   2496835325624  1040354089821  ...   103.841576             1\n",
              "2   2496835326630  1041356676279  ...   104.008815             1\n",
              "3   2496835327632  1042359188258  ...   104.000552             1\n",
              "4   2496835328636  1043364980445  ...   103.942761             1\n",
              "\n",
              "[5 rows x 8 columns]"
            ]
          },
          "metadata": {
            "tags": []
          },
          "execution_count": 3
        }
      ]
    },
    {
      "cell_type": "code",
      "metadata": {
        "colab": {
          "base_uri": "https://localhost:8080/",
          "height": 203
        },
        "id": "ROVvYFQ6oj6k",
        "outputId": "5517d10c-1b36-44bf-fd35-cb925e5a723c"
      },
      "source": [
        "location_prediction.head()"
      ],
      "execution_count": null,
      "outputs": [
        {
          "output_type": "execute_result",
          "data": {
            "text/html": [
              "<div>\n",
              "<style scoped>\n",
              "    .dataframe tbody tr th:only-of-type {\n",
              "        vertical-align: middle;\n",
              "    }\n",
              "\n",
              "    .dataframe tbody tr th {\n",
              "        vertical-align: top;\n",
              "    }\n",
              "\n",
              "    .dataframe thead th {\n",
              "        text-align: right;\n",
              "    }\n",
              "</style>\n",
              "<table border=\"1\" class=\"dataframe\">\n",
              "  <thead>\n",
              "    <tr style=\"text-align: right;\">\n",
              "      <th></th>\n",
              "      <th>Location_Prediction</th>\n",
              "    </tr>\n",
              "  </thead>\n",
              "  <tbody>\n",
              "    <tr>\n",
              "      <th>0</th>\n",
              "      <td>5.0</td>\n",
              "    </tr>\n",
              "    <tr>\n",
              "      <th>1</th>\n",
              "      <td>5.0</td>\n",
              "    </tr>\n",
              "    <tr>\n",
              "      <th>2</th>\n",
              "      <td>5.0</td>\n",
              "    </tr>\n",
              "    <tr>\n",
              "      <th>3</th>\n",
              "      <td>5.0</td>\n",
              "    </tr>\n",
              "    <tr>\n",
              "      <th>4</th>\n",
              "      <td>5.0</td>\n",
              "    </tr>\n",
              "  </tbody>\n",
              "</table>\n",
              "</div>"
            ],
            "text/plain": [
              "   Location_Prediction\n",
              "0                  5.0\n",
              "1                  5.0\n",
              "2                  5.0\n",
              "3                  5.0\n",
              "4                  5.0"
            ]
          },
          "metadata": {
            "tags": []
          },
          "execution_count": 4
        }
      ]
    },
    {
      "cell_type": "code",
      "metadata": {
        "id": "gk_n0CyrxqF-"
      },
      "source": [
        "flag=0\n",
        "k=0\n",
        "\n",
        "for i in range(len(Final_label)-1):\n",
        "  print(i, flag)\n",
        "  for j in range(flag,len(location_test)):\n",
        "    print(j)\n",
        "    if (location_test[\"Epoch time[ms]\"][j]>=int(Final_label[\"Epoch time[ms]\"][i]) and location_test[\"Epoch time[ms]\"][j]<int(Final_label[\"Epoch time[ms]\"][i+1])):\n",
        "      Final_label.loc[i, 'Label']=location_prediction['Location_Prediction'][k]\n",
        "      k=k+1\n",
        "      flag=j+1\n",
        "      break\n",
        "\n",
        "    elif location_test[\"Epoch time[ms]\"][j]>int(Final_label[\"Epoch time[ms]\"][i+1]):\n",
        "      break"
      ],
      "execution_count": null,
      "outputs": []
    },
    {
      "cell_type": "code",
      "metadata": {
        "id": "dzZtPpYekP8O"
      },
      "source": [
        "Final_label.to_csv('/content/drive/MyDrive/SHL 2021/Test/Label/Location- prediction + epoch_time.csv')"
      ],
      "execution_count": null,
      "outputs": []
    },
    {
      "cell_type": "markdown",
      "metadata": {
        "id": "807X45XUZJiH"
      },
      "source": [
        "# Final Prediction"
      ]
    },
    {
      "cell_type": "code",
      "metadata": {
        "id": "aXcz0hiwrXUU"
      },
      "source": [
        "prediction=pd.read_csv(\"/content/drive/MyDrive/SHL 2021/Test/Label/Location- prediction + epoch_time.csv\")"
      ],
      "execution_count": null,
      "outputs": []
    },
    {
      "cell_type": "code",
      "metadata": {
        "colab": {
          "base_uri": "https://localhost:8080/",
          "height": 203
        },
        "id": "xyPbtn7Kriww",
        "outputId": "6d1c3b4a-dec4-42a1-c3d2-5b8073100b44"
      },
      "source": [
        "prediction.head()"
      ],
      "execution_count": null,
      "outputs": [
        {
          "output_type": "execute_result",
          "data": {
            "text/html": [
              "<div>\n",
              "<style scoped>\n",
              "    .dataframe tbody tr th:only-of-type {\n",
              "        vertical-align: middle;\n",
              "    }\n",
              "\n",
              "    .dataframe tbody tr th {\n",
              "        vertical-align: top;\n",
              "    }\n",
              "\n",
              "    .dataframe thead th {\n",
              "        text-align: right;\n",
              "    }\n",
              "</style>\n",
              "<table border=\"1\" class=\"dataframe\">\n",
              "  <thead>\n",
              "    <tr style=\"text-align: right;\">\n",
              "      <th></th>\n",
              "      <th>Unnamed: 0</th>\n",
              "      <th>Epoch time[ms]</th>\n",
              "      <th>Label</th>\n",
              "    </tr>\n",
              "  </thead>\n",
              "  <tbody>\n",
              "    <tr>\n",
              "      <th>0</th>\n",
              "      <td>0</td>\n",
              "      <td>2496835246000</td>\n",
              "      <td>-1.0</td>\n",
              "    </tr>\n",
              "    <tr>\n",
              "      <th>1</th>\n",
              "      <td>1</td>\n",
              "      <td>2496835247000</td>\n",
              "      <td>-1.0</td>\n",
              "    </tr>\n",
              "    <tr>\n",
              "      <th>2</th>\n",
              "      <td>2</td>\n",
              "      <td>2496835248000</td>\n",
              "      <td>-1.0</td>\n",
              "    </tr>\n",
              "    <tr>\n",
              "      <th>3</th>\n",
              "      <td>3</td>\n",
              "      <td>2496835249000</td>\n",
              "      <td>-1.0</td>\n",
              "    </tr>\n",
              "    <tr>\n",
              "      <th>4</th>\n",
              "      <td>4</td>\n",
              "      <td>2496835250000</td>\n",
              "      <td>-1.0</td>\n",
              "    </tr>\n",
              "  </tbody>\n",
              "</table>\n",
              "</div>"
            ],
            "text/plain": [
              "   Unnamed: 0  Epoch time[ms]  Label\n",
              "0           0   2496835246000   -1.0\n",
              "1           1   2496835247000   -1.0\n",
              "2           2   2496835248000   -1.0\n",
              "3           3   2496835249000   -1.0\n",
              "4           4   2496835250000   -1.0"
            ]
          },
          "metadata": {
            "tags": []
          },
          "execution_count": 8
        }
      ]
    },
    {
      "cell_type": "code",
      "metadata": {
        "id": "Tug86fXn5hTD",
        "colab": {
          "base_uri": "https://localhost:8080/"
        },
        "outputId": "c1318123-7516-4263-d1d3-152fe0e69fe0"
      },
      "source": [
        "prediction['Label'][79]"
      ],
      "execution_count": null,
      "outputs": [
        {
          "output_type": "execute_result",
          "data": {
            "text/plain": [
              "5.0"
            ]
          },
          "metadata": {
            "tags": []
          },
          "execution_count": 9
        }
      ]
    },
    {
      "cell_type": "code",
      "metadata": {
        "id": "NS3xnFsjxHpq"
      },
      "source": [
        "for i in range(79):\n",
        "  prediction.loc[i,'Label']=prediction['Label'][78]"
      ],
      "execution_count": null,
      "outputs": []
    },
    {
      "cell_type": "code",
      "metadata": {
        "id": "iVduMAXL57Zy"
      },
      "source": [
        "p=5\n",
        "for i in range(len(prediction)):\n",
        "  print(i)\n",
        "  if prediction['Label'][i]==-1:\n",
        "    prediction.loc[i,'Label']=p\n",
        "  else:\n",
        "    p=prediction['Label'][i]  "
      ],
      "execution_count": null,
      "outputs": []
    },
    {
      "cell_type": "code",
      "metadata": {
        "colab": {
          "base_uri": "https://localhost:8080/",
          "height": 203
        },
        "id": "VYxpF1h-u62C",
        "outputId": "2a0948c5-c7be-457e-d6b0-0bc0148129f1"
      },
      "source": [
        "prediction.drop(['Unnamed: 0'],axis=1,inplace=True)\n",
        "prediction.head()"
      ],
      "execution_count": null,
      "outputs": [
        {
          "output_type": "execute_result",
          "data": {
            "text/html": [
              "<div>\n",
              "<style scoped>\n",
              "    .dataframe tbody tr th:only-of-type {\n",
              "        vertical-align: middle;\n",
              "    }\n",
              "\n",
              "    .dataframe tbody tr th {\n",
              "        vertical-align: top;\n",
              "    }\n",
              "\n",
              "    .dataframe thead th {\n",
              "        text-align: right;\n",
              "    }\n",
              "</style>\n",
              "<table border=\"1\" class=\"dataframe\">\n",
              "  <thead>\n",
              "    <tr style=\"text-align: right;\">\n",
              "      <th></th>\n",
              "      <th>Epoch time[ms]</th>\n",
              "      <th>Label</th>\n",
              "    </tr>\n",
              "  </thead>\n",
              "  <tbody>\n",
              "    <tr>\n",
              "      <th>0</th>\n",
              "      <td>2496835246000</td>\n",
              "      <td>5.0</td>\n",
              "    </tr>\n",
              "    <tr>\n",
              "      <th>1</th>\n",
              "      <td>2496835247000</td>\n",
              "      <td>5.0</td>\n",
              "    </tr>\n",
              "    <tr>\n",
              "      <th>2</th>\n",
              "      <td>2496835248000</td>\n",
              "      <td>5.0</td>\n",
              "    </tr>\n",
              "    <tr>\n",
              "      <th>3</th>\n",
              "      <td>2496835249000</td>\n",
              "      <td>5.0</td>\n",
              "    </tr>\n",
              "    <tr>\n",
              "      <th>4</th>\n",
              "      <td>2496835250000</td>\n",
              "      <td>5.0</td>\n",
              "    </tr>\n",
              "  </tbody>\n",
              "</table>\n",
              "</div>"
            ],
            "text/plain": [
              "   Epoch time[ms]  Label\n",
              "0   2496835246000    5.0\n",
              "1   2496835247000    5.0\n",
              "2   2496835248000    5.0\n",
              "3   2496835249000    5.0\n",
              "4   2496835250000    5.0"
            ]
          },
          "metadata": {
            "tags": []
          },
          "execution_count": 17
        }
      ]
    },
    {
      "cell_type": "code",
      "metadata": {
        "id": "HQFnrb2zIiPC"
      },
      "source": [
        "prediction.to_csv(\"/content/drive/MyDrive/SHL 2021/Test/Label/GPU Kaj Kore Na_predictions.csv\",index=False)"
      ],
      "execution_count": null,
      "outputs": []
    }
  ]
}