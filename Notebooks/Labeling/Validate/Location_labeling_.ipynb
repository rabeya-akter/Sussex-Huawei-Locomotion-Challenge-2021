{
  "nbformat": 4,
  "nbformat_minor": 0,
  "metadata": {
    "colab": {
      "name": "Location labeling .ipynb",
      "provenance": [],
      "collapsed_sections": [],
      "machine_shape": "hm"
    },
    "kernelspec": {
      "name": "python3",
      "display_name": "Python 3"
    }
  },
  "cells": [
    {
      "cell_type": "code",
      "metadata": {
        "colab": {
          "base_uri": "https://localhost:8080/"
        },
        "id": "nz2L5YtnOU3U",
        "outputId": "4bf7da03-28f0-4a58-b7dd-7fcd87d167b2"
      },
      "source": [
        "from google.colab import drive\n",
        "drive.mount('/content/drive/')"
      ],
      "execution_count": null,
      "outputs": [
        {
          "output_type": "stream",
          "text": [
            "Mounted at /content/drive/\n"
          ],
          "name": "stdout"
        }
      ]
    },
    {
      "cell_type": "code",
      "metadata": {
        "id": "imbH8382OUz7"
      },
      "source": [
        "import numpy as np\n",
        "import pandas as pd\n",
        "import matplotlib.pyplot as plt\n",
        "import seaborn as sns"
      ],
      "execution_count": null,
      "outputs": []
    },
    {
      "cell_type": "code",
      "metadata": {
        "id": "obLMpddsOUxD"
      },
      "source": [
        "Location=pd.read_csv('/content/drive/MyDrive/SHL 2021/Validate/Location/Location.csv',low_memory=False)\n",
        "Location=Location.drop(['Ignore1','Ignore2'],axis=1)\n",
        "Location.head()"
      ],
      "execution_count": null,
      "outputs": []
    },
    {
      "cell_type": "code",
      "metadata": {
        "id": "sdrdnviROUub"
      },
      "source": [
        "Label=pd.read_csv(\"/content/drive/MyDrive/SHL 2021/Validate/Label/Label.csv\",low_memory=False)\n",
        "Label.head()"
      ],
      "execution_count": null,
      "outputs": []
    },
    {
      "cell_type": "code",
      "metadata": {
        "colab": {
          "base_uri": "https://localhost:8080/"
        },
        "id": "Dg0RljCmPtdc",
        "outputId": "7305e614-d879-4295-a785-9dab664e0737"
      },
      "source": [
        "print(len(Location))\n",
        "print(len(Label))"
      ],
      "execution_count": null,
      "outputs": [
        {
          "output_type": "stream",
          "text": [
            "101524\n",
            "143957\n"
          ],
          "name": "stdout"
        }
      ]
    },
    {
      "cell_type": "code",
      "metadata": {
        "id": "p-GcFvfWPHrA"
      },
      "source": [
        "Location[\"Label\"]=-1"
      ],
      "execution_count": null,
      "outputs": []
    },
    {
      "cell_type": "code",
      "metadata": {
        "colab": {
          "base_uri": "https://localhost:8080/",
          "height": 204
        },
        "id": "orH495duPKXE",
        "outputId": "2661d49f-700f-47b5-e6f3-17123cbc93b9"
      },
      "source": [
        "Location.head()"
      ],
      "execution_count": null,
      "outputs": [
        {
          "output_type": "execute_result",
          "data": {
            "text/html": [
              "<div>\n",
              "<style scoped>\n",
              "    .dataframe tbody tr th:only-of-type {\n",
              "        vertical-align: middle;\n",
              "    }\n",
              "\n",
              "    .dataframe tbody tr th {\n",
              "        vertical-align: top;\n",
              "    }\n",
              "\n",
              "    .dataframe thead th {\n",
              "        text-align: right;\n",
              "    }\n",
              "</style>\n",
              "<table border=\"1\" class=\"dataframe\">\n",
              "  <thead>\n",
              "    <tr style=\"text-align: right;\">\n",
              "      <th></th>\n",
              "      <th>Epoch time[ms]</th>\n",
              "      <th>Accuracy of this location[m]</th>\n",
              "      <th>Latitude[degrees]</th>\n",
              "      <th>Longitude[degrees]</th>\n",
              "      <th>Altitude[m]</th>\n",
              "      <th>Label</th>\n",
              "    </tr>\n",
              "  </thead>\n",
              "  <tbody>\n",
              "    <tr>\n",
              "      <th>0</th>\n",
              "      <td>1497426503550</td>\n",
              "      <td>96.0</td>\n",
              "      <td>50.826394</td>\n",
              "      <td>-0.119515</td>\n",
              "      <td>248.937172</td>\n",
              "      <td>-1</td>\n",
              "    </tr>\n",
              "    <tr>\n",
              "      <th>1</th>\n",
              "      <td>1497426505561</td>\n",
              "      <td>128.0</td>\n",
              "      <td>50.826394</td>\n",
              "      <td>-0.119528</td>\n",
              "      <td>129.362557</td>\n",
              "      <td>-1</td>\n",
              "    </tr>\n",
              "    <tr>\n",
              "      <th>2</th>\n",
              "      <td>1497426506564</td>\n",
              "      <td>96.0</td>\n",
              "      <td>50.826394</td>\n",
              "      <td>-0.119551</td>\n",
              "      <td>130.095681</td>\n",
              "      <td>-1</td>\n",
              "    </tr>\n",
              "    <tr>\n",
              "      <th>3</th>\n",
              "      <td>1497426507564</td>\n",
              "      <td>128.0</td>\n",
              "      <td>50.826396</td>\n",
              "      <td>-0.119589</td>\n",
              "      <td>130.184470</td>\n",
              "      <td>-1</td>\n",
              "    </tr>\n",
              "    <tr>\n",
              "      <th>4</th>\n",
              "      <td>1497426508567</td>\n",
              "      <td>128.0</td>\n",
              "      <td>50.826396</td>\n",
              "      <td>-0.119589</td>\n",
              "      <td>130.184470</td>\n",
              "      <td>-1</td>\n",
              "    </tr>\n",
              "  </tbody>\n",
              "</table>\n",
              "</div>"
            ],
            "text/plain": [
              "   Epoch time[ms]  Accuracy of this location[m]  ...  Altitude[m]  Label\n",
              "0   1497426503550                          96.0  ...   248.937172     -1\n",
              "1   1497426505561                         128.0  ...   129.362557     -1\n",
              "2   1497426506564                          96.0  ...   130.095681     -1\n",
              "3   1497426507564                         128.0  ...   130.184470     -1\n",
              "4   1497426508567                         128.0  ...   130.184470     -1\n",
              "\n",
              "[5 rows x 6 columns]"
            ]
          },
          "metadata": {
            "tags": []
          },
          "execution_count": 7
        }
      ]
    },
    {
      "cell_type": "code",
      "metadata": {
        "id": "6aoPpE0oPOPU"
      },
      "source": [
        "flag=0\n",
        "for i in range(len(Label)-1):\n",
        "  print(i, flag)\n",
        "  for j in range(flag,len(Location)):\n",
        "    print(j)\n",
        "    if (Location[\"Epoch time[ms]\"][j]>=int(Label[\"Epoch time[ms]\"][i]) and Location[\"Epoch time[ms]\"][j]<int(Label[\"Epoch time[ms]\"][i+1])):\n",
        "      Location.loc[j, 'Label']=Label[\"Label\"][i]\n",
        "      flag=j+1\n",
        "      break\n",
        "    elif Location[\"Epoch time[ms]\"][j]>int(Label[\"Epoch time[ms]\"][i+1]):\n",
        "      break"
      ],
      "execution_count": null,
      "outputs": []
    },
    {
      "cell_type": "code",
      "metadata": {
        "colab": {
          "base_uri": "https://localhost:8080/"
        },
        "id": "4LmT8TlpPRuT",
        "outputId": "a6773eaa-4508-4100-d907-10369ba703ef"
      },
      "source": [
        "Location[\"Label\"].value_counts()"
      ],
      "execution_count": null,
      "outputs": [
        {
          "output_type": "execute_result",
          "data": {
            "text/plain": [
              "-1    37705\n",
              " 2    15438\n",
              " 5    13498\n",
              " 4    10632\n",
              " 1    10348\n",
              " 7     7117\n",
              " 6     3335\n",
              " 8     2542\n",
              " 3      909\n",
              "Name: Label, dtype: int64"
            ]
          },
          "metadata": {
            "tags": []
          },
          "execution_count": 9
        }
      ]
    },
    {
      "cell_type": "code",
      "metadata": {
        "id": "3ckTD3wdRQhq"
      },
      "source": [
        "Final_Location=Location[Location[\"Label\"]!=-1]"
      ],
      "execution_count": null,
      "outputs": []
    },
    {
      "cell_type": "code",
      "metadata": {
        "id": "CrgIp6nNP60O"
      },
      "source": [
        "Final_Location.to_csv(\"/content/drive/MyDrive/SHL 2021/Validate/Location/Location with Label.csv\",index=False)"
      ],
      "execution_count": null,
      "outputs": []
    }
  ]
}