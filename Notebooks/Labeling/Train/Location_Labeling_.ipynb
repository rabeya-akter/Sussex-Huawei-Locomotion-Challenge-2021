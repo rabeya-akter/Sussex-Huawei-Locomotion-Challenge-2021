{
  "nbformat": 4,
  "nbformat_minor": 0,
  "metadata": {
    "colab": {
      "name": "Location Labeling  .ipynb",
      "provenance": [],
      "collapsed_sections": [],
      "machine_shape": "hm"
    },
    "kernelspec": {
      "display_name": "Python 3",
      "name": "python3"
    }
  },
  "cells": [
    {
      "cell_type": "code",
      "metadata": {
        "colab": {
          "base_uri": "https://localhost:8080/"
        },
        "id": "tfr9xjjZwGt2",
        "outputId": "10a29ac7-f4cf-4e8b-9ec7-ef4ea4f3d91a"
      },
      "source": [
        "from google.colab import drive\n",
        "drive.mount('/content/drive/')"
      ],
      "execution_count": null,
      "outputs": [
        {
          "output_type": "stream",
          "text": [
            "Drive already mounted at /content/drive/; to attempt to forcibly remount, call drive.mount(\"/content/drive/\", force_remount=True).\n"
          ],
          "name": "stdout"
        }
      ]
    },
    {
      "cell_type": "code",
      "metadata": {
        "id": "tSKIDWFX5FFW"
      },
      "source": [
        "import numpy as np\n",
        "import pandas as pd\n",
        "import matplotlib.pyplot as plt\n",
        "import seaborn as sns\n",
        "import warnings\n",
        "warnings.filterwarnings('ignore')  \n"
      ],
      "execution_count": null,
      "outputs": []
    },
    {
      "cell_type": "code",
      "metadata": {
        "id": "PxtZE0Zp5HDL",
        "colab": {
          "base_uri": "https://localhost:8080/",
          "height": 195
        },
        "outputId": "d02593a9-8608-4cae-a431-a765520d8fb3"
      },
      "source": [
        "Location=pd.read_csv('/content/drive/MyDrive/SHL 2021/Train/Location/Location.csv',low_memory=None)\n",
        "Location=Location.drop(['Ignore1','Ignore2'],axis=1)\n",
        "Location[\"Label\"]=-1\n",
        "Location.head()"
      ],
      "execution_count": null,
      "outputs": [
        {
          "output_type": "execute_result",
          "data": {
            "text/html": [
              "<div>\n",
              "<style scoped>\n",
              "    .dataframe tbody tr th:only-of-type {\n",
              "        vertical-align: middle;\n",
              "    }\n",
              "\n",
              "    .dataframe tbody tr th {\n",
              "        vertical-align: top;\n",
              "    }\n",
              "\n",
              "    .dataframe thead th {\n",
              "        text-align: right;\n",
              "    }\n",
              "</style>\n",
              "<table border=\"1\" class=\"dataframe\">\n",
              "  <thead>\n",
              "    <tr style=\"text-align: right;\">\n",
              "      <th></th>\n",
              "      <th>Epoch time[ms]</th>\n",
              "      <th>Accuracy of this location[m]</th>\n",
              "      <th>Latitude[degrees]</th>\n",
              "      <th>Longitude[degrees]</th>\n",
              "      <th>Altitude[m]</th>\n",
              "      <th>Label</th>\n",
              "    </tr>\n",
              "  </thead>\n",
              "  <tbody>\n",
              "    <tr>\n",
              "      <th>0</th>\n",
              "      <td>1490431658118</td>\n",
              "      <td>64.0</td>\n",
              "      <td>50.844494</td>\n",
              "      <td>-0.132922</td>\n",
              "      <td>97.664610</td>\n",
              "      <td>-1</td>\n",
              "    </tr>\n",
              "    <tr>\n",
              "      <th>1</th>\n",
              "      <td>1490431659760</td>\n",
              "      <td>48.0</td>\n",
              "      <td>50.844491</td>\n",
              "      <td>-0.132924</td>\n",
              "      <td>128.267900</td>\n",
              "      <td>-1</td>\n",
              "    </tr>\n",
              "    <tr>\n",
              "      <th>2</th>\n",
              "      <td>1490431660766</td>\n",
              "      <td>48.0</td>\n",
              "      <td>50.844481</td>\n",
              "      <td>-0.132931</td>\n",
              "      <td>135.611425</td>\n",
              "      <td>-1</td>\n",
              "    </tr>\n",
              "    <tr>\n",
              "      <th>3</th>\n",
              "      <td>1490431661765</td>\n",
              "      <td>12.0</td>\n",
              "      <td>50.844469</td>\n",
              "      <td>-0.132930</td>\n",
              "      <td>134.436050</td>\n",
              "      <td>-1</td>\n",
              "    </tr>\n",
              "    <tr>\n",
              "      <th>4</th>\n",
              "      <td>1490431662768</td>\n",
              "      <td>32.0</td>\n",
              "      <td>50.844267</td>\n",
              "      <td>-0.132787</td>\n",
              "      <td>135.993866</td>\n",
              "      <td>-1</td>\n",
              "    </tr>\n",
              "  </tbody>\n",
              "</table>\n",
              "</div>"
            ],
            "text/plain": [
              "   Epoch time[ms]  Accuracy of this location[m]  ...  Altitude[m]  Label\n",
              "0   1490431658118                          64.0  ...    97.664610     -1\n",
              "1   1490431659760                          48.0  ...   128.267900     -1\n",
              "2   1490431660766                          48.0  ...   135.611425     -1\n",
              "3   1490431661765                          12.0  ...   134.436050     -1\n",
              "4   1490431662768                          32.0  ...   135.993866     -1\n",
              "\n",
              "[5 rows x 6 columns]"
            ]
          },
          "metadata": {
            "tags": []
          },
          "execution_count": 3
        }
      ]
    },
    {
      "cell_type": "code",
      "metadata": {
        "colab": {
          "base_uri": "https://localhost:8080/",
          "height": 195
        },
        "id": "wF6aYxL-J60F",
        "outputId": "a8648d64-d6e7-405a-8499-24da53dc18b9"
      },
      "source": [
        "Label=pd.read_csv(\"/content/drive/MyDrive/SHL 2021/Train/Label/Label.csv\",low_memory=False)\n",
        "Label.head()"
      ],
      "execution_count": null,
      "outputs": [
        {
          "output_type": "execute_result",
          "data": {
            "text/html": [
              "<div>\n",
              "<style scoped>\n",
              "    .dataframe tbody tr th:only-of-type {\n",
              "        vertical-align: middle;\n",
              "    }\n",
              "\n",
              "    .dataframe tbody tr th {\n",
              "        vertical-align: top;\n",
              "    }\n",
              "\n",
              "    .dataframe thead th {\n",
              "        text-align: right;\n",
              "    }\n",
              "</style>\n",
              "<table border=\"1\" class=\"dataframe\">\n",
              "  <thead>\n",
              "    <tr style=\"text-align: right;\">\n",
              "      <th></th>\n",
              "      <th>Epoch time[ms]</th>\n",
              "      <th>Label</th>\n",
              "    </tr>\n",
              "  </thead>\n",
              "  <tbody>\n",
              "    <tr>\n",
              "      <th>0</th>\n",
              "      <td>1490431583000</td>\n",
              "      <td>4</td>\n",
              "    </tr>\n",
              "    <tr>\n",
              "      <th>1</th>\n",
              "      <td>1490431584000</td>\n",
              "      <td>4</td>\n",
              "    </tr>\n",
              "    <tr>\n",
              "      <th>2</th>\n",
              "      <td>1490431585000</td>\n",
              "      <td>4</td>\n",
              "    </tr>\n",
              "    <tr>\n",
              "      <th>3</th>\n",
              "      <td>1490431586000</td>\n",
              "      <td>4</td>\n",
              "    </tr>\n",
              "    <tr>\n",
              "      <th>4</th>\n",
              "      <td>1490431587000</td>\n",
              "      <td>4</td>\n",
              "    </tr>\n",
              "  </tbody>\n",
              "</table>\n",
              "</div>"
            ],
            "text/plain": [
              "   Epoch time[ms]  Label\n",
              "0   1490431583000      4\n",
              "1   1490431584000      4\n",
              "2   1490431585000      4\n",
              "3   1490431586000      4\n",
              "4   1490431587000      4"
            ]
          },
          "metadata": {
            "tags": []
          },
          "execution_count": 4
        }
      ]
    },
    {
      "cell_type": "code",
      "metadata": {
        "id": "2A8bcyTnJs1F"
      },
      "source": [
        "flag=0\n",
        "for i in range(len(Label)-1):\n",
        "  print(i, flag)\n",
        "  for j in range(flag,len(Location)):\n",
        "    print(j)\n",
        "    if (Location[\"Epoch time[ms]\"][j]>=int(Label[\"Epoch time[ms]\"][i]) and Location[\"Epoch time[ms]\"][j]<int(Label[\"Epoch time[ms]\"][i+1])):\n",
        "      Location.loc[j, 'Label']=Label[\"Label\"][i]\n",
        "      flag=j\n",
        "      break\n",
        "    elif Location[\"Epoch time[ms]\"][j]>int(Label[\"Epoch time[ms]\"][i+1]):\n",
        "      break\n",
        "    else:\n",
        "      j=j+1"
      ],
      "execution_count": null,
      "outputs": []
    },
    {
      "cell_type": "code",
      "metadata": {
        "id": "u5YS-WrdJ0Kz"
      },
      "source": [
        "Final_Location=Location[Location['Label']!=-1]\n",
        "Final_Location.to_csv(\"/content/drive/MyDrive/SHL 2021/Train/Location/Location with label.csv\",index=False)"
      ],
      "execution_count": null,
      "outputs": []
    },
    {
      "cell_type": "code",
      "metadata": {
        "id": "SPOMZ3viJ2Fu",
        "colab": {
          "base_uri": "https://localhost:8080/"
        },
        "outputId": "9b1042b4-c6f4-4b33-b96e-8d409d492974"
      },
      "source": [
        "location=pd.read_csv(\"/content/drive/MyDrive/SHL 2021/Train/Location/Location with label.csv\",low_memory=False)\n",
        "len(location)"
      ],
      "execution_count": null,
      "outputs": [
        {
          "output_type": "execute_result",
          "data": {
            "text/plain": [
              "661081"
            ]
          },
          "metadata": {
            "tags": []
          },
          "execution_count": 7
        }
      ]
    },
    {
      "cell_type": "code",
      "metadata": {
        "id": "3jjlkKCShuIv",
        "colab": {
          "base_uri": "https://localhost:8080/",
          "height": 195
        },
        "outputId": "4b336133-a656-4d3a-e0c2-fba5036447b4"
      },
      "source": [
        "location.head()"
      ],
      "execution_count": null,
      "outputs": [
        {
          "output_type": "execute_result",
          "data": {
            "text/html": [
              "<div>\n",
              "<style scoped>\n",
              "    .dataframe tbody tr th:only-of-type {\n",
              "        vertical-align: middle;\n",
              "    }\n",
              "\n",
              "    .dataframe tbody tr th {\n",
              "        vertical-align: top;\n",
              "    }\n",
              "\n",
              "    .dataframe thead th {\n",
              "        text-align: right;\n",
              "    }\n",
              "</style>\n",
              "<table border=\"1\" class=\"dataframe\">\n",
              "  <thead>\n",
              "    <tr style=\"text-align: right;\">\n",
              "      <th></th>\n",
              "      <th>Epoch time[ms]</th>\n",
              "      <th>Accuracy of this location[m]</th>\n",
              "      <th>Latitude[degrees]</th>\n",
              "      <th>Longitude[degrees]</th>\n",
              "      <th>Altitude[m]</th>\n",
              "      <th>Label</th>\n",
              "    </tr>\n",
              "  </thead>\n",
              "  <tbody>\n",
              "    <tr>\n",
              "      <th>0</th>\n",
              "      <td>1490431658118</td>\n",
              "      <td>64.0</td>\n",
              "      <td>50.844494</td>\n",
              "      <td>-0.132922</td>\n",
              "      <td>97.664610</td>\n",
              "      <td>4</td>\n",
              "    </tr>\n",
              "    <tr>\n",
              "      <th>1</th>\n",
              "      <td>1490431659760</td>\n",
              "      <td>48.0</td>\n",
              "      <td>50.844491</td>\n",
              "      <td>-0.132924</td>\n",
              "      <td>128.267900</td>\n",
              "      <td>4</td>\n",
              "    </tr>\n",
              "    <tr>\n",
              "      <th>2</th>\n",
              "      <td>1490431660766</td>\n",
              "      <td>48.0</td>\n",
              "      <td>50.844481</td>\n",
              "      <td>-0.132931</td>\n",
              "      <td>135.611425</td>\n",
              "      <td>4</td>\n",
              "    </tr>\n",
              "    <tr>\n",
              "      <th>3</th>\n",
              "      <td>1490431661765</td>\n",
              "      <td>12.0</td>\n",
              "      <td>50.844469</td>\n",
              "      <td>-0.132930</td>\n",
              "      <td>134.436050</td>\n",
              "      <td>4</td>\n",
              "    </tr>\n",
              "    <tr>\n",
              "      <th>4</th>\n",
              "      <td>1490431662768</td>\n",
              "      <td>32.0</td>\n",
              "      <td>50.844267</td>\n",
              "      <td>-0.132787</td>\n",
              "      <td>135.993866</td>\n",
              "      <td>4</td>\n",
              "    </tr>\n",
              "  </tbody>\n",
              "</table>\n",
              "</div>"
            ],
            "text/plain": [
              "   Epoch time[ms]  Accuracy of this location[m]  ...  Altitude[m]  Label\n",
              "0   1490431658118                          64.0  ...    97.664610      4\n",
              "1   1490431659760                          48.0  ...   128.267900      4\n",
              "2   1490431660766                          48.0  ...   135.611425      4\n",
              "3   1490431661765                          12.0  ...   134.436050      4\n",
              "4   1490431662768                          32.0  ...   135.993866      4\n",
              "\n",
              "[5 rows x 6 columns]"
            ]
          },
          "metadata": {
            "tags": []
          },
          "execution_count": 8
        }
      ]
    },
    {
      "cell_type": "code",
      "metadata": {
        "id": "_lPR1dnqh6yQ",
        "colab": {
          "base_uri": "https://localhost:8080/",
          "height": 195
        },
        "outputId": "e8ac53ed-c1bf-441b-8890-ffecdb1432f6"
      },
      "source": [
        "location.tail()"
      ],
      "execution_count": null,
      "outputs": [
        {
          "output_type": "execute_result",
          "data": {
            "text/html": [
              "<div>\n",
              "<style scoped>\n",
              "    .dataframe tbody tr th:only-of-type {\n",
              "        vertical-align: middle;\n",
              "    }\n",
              "\n",
              "    .dataframe tbody tr th {\n",
              "        vertical-align: top;\n",
              "    }\n",
              "\n",
              "    .dataframe thead th {\n",
              "        text-align: right;\n",
              "    }\n",
              "</style>\n",
              "<table border=\"1\" class=\"dataframe\">\n",
              "  <thead>\n",
              "    <tr style=\"text-align: right;\">\n",
              "      <th></th>\n",
              "      <th>Epoch time[ms]</th>\n",
              "      <th>Accuracy of this location[m]</th>\n",
              "      <th>Latitude[degrees]</th>\n",
              "      <th>Longitude[degrees]</th>\n",
              "      <th>Altitude[m]</th>\n",
              "      <th>Label</th>\n",
              "    </tr>\n",
              "  </thead>\n",
              "  <tbody>\n",
              "    <tr>\n",
              "      <th>661076</th>\n",
              "      <td>1499267847130</td>\n",
              "      <td>6.0</td>\n",
              "      <td>50.845096</td>\n",
              "      <td>-0.133332</td>\n",
              "      <td>126.568016</td>\n",
              "      <td>5</td>\n",
              "    </tr>\n",
              "    <tr>\n",
              "      <th>661077</th>\n",
              "      <td>1499267848129</td>\n",
              "      <td>8.0</td>\n",
              "      <td>50.845158</td>\n",
              "      <td>-0.133353</td>\n",
              "      <td>126.626823</td>\n",
              "      <td>5</td>\n",
              "    </tr>\n",
              "    <tr>\n",
              "      <th>661078</th>\n",
              "      <td>1499267849131</td>\n",
              "      <td>8.0</td>\n",
              "      <td>50.845223</td>\n",
              "      <td>-0.133373</td>\n",
              "      <td>126.724403</td>\n",
              "      <td>5</td>\n",
              "    </tr>\n",
              "    <tr>\n",
              "      <th>661079</th>\n",
              "      <td>1499267850136</td>\n",
              "      <td>8.0</td>\n",
              "      <td>50.845290</td>\n",
              "      <td>-0.133397</td>\n",
              "      <td>126.844643</td>\n",
              "      <td>5</td>\n",
              "    </tr>\n",
              "    <tr>\n",
              "      <th>661080</th>\n",
              "      <td>1499267851132</td>\n",
              "      <td>8.0</td>\n",
              "      <td>50.845354</td>\n",
              "      <td>-0.133421</td>\n",
              "      <td>126.969231</td>\n",
              "      <td>5</td>\n",
              "    </tr>\n",
              "  </tbody>\n",
              "</table>\n",
              "</div>"
            ],
            "text/plain": [
              "        Epoch time[ms]  Accuracy of this location[m]  ...  Altitude[m]  Label\n",
              "661076   1499267847130                           6.0  ...   126.568016      5\n",
              "661077   1499267848129                           8.0  ...   126.626823      5\n",
              "661078   1499267849131                           8.0  ...   126.724403      5\n",
              "661079   1499267850136                           8.0  ...   126.844643      5\n",
              "661080   1499267851132                           8.0  ...   126.969231      5\n",
              "\n",
              "[5 rows x 6 columns]"
            ]
          },
          "metadata": {
            "tags": []
          },
          "execution_count": 9
        }
      ]
    },
    {
      "cell_type": "code",
      "metadata": {
        "id": "4m4sZ-hpDoJa"
      },
      "source": [
        "location=pd.read_csv(\"/content/drive/MyDrive/SHL 2021/Train/Location/Location with label.csv\",low_memory=False)"
      ],
      "execution_count": null,
      "outputs": []
    }
  ]
}