{
  "nbformat": 4,
  "nbformat_minor": 0,
  "metadata": {
    "colab": {
      "name": "GPS Labeling.ipynb",
      "provenance": [],
      "collapsed_sections": [],
      "machine_shape": "hm"
    },
    "kernelspec": {
      "display_name": "Python 3",
      "name": "python3"
    }
  },
  "cells": [
    {
      "cell_type": "code",
      "metadata": {
        "colab": {
          "base_uri": "https://localhost:8080/"
        },
        "id": "k5siBm6twMnH",
        "outputId": "b9dc10d9-fdae-4720-83fa-82cf7f871b20"
      },
      "source": [
        "from google.colab import drive\n",
        "drive.mount('/content/drive/')"
      ],
      "execution_count": null,
      "outputs": [
        {
          "output_type": "stream",
          "text": [
            "Mounted at /content/drive/\n"
          ],
          "name": "stdout"
        }
      ]
    },
    {
      "cell_type": "code",
      "metadata": {
        "id": "5wgZkhhyKEko"
      },
      "source": [
        "import numpy as np\n",
        "import pandas as pd\n",
        "import matplotlib.pyplot as plt\n",
        "import seaborn as sns"
      ],
      "execution_count": null,
      "outputs": []
    },
    {
      "cell_type": "code",
      "metadata": {
        "id": "MhBCaWKmKG6p"
      },
      "source": [
        "GPS=pd.read_csv(\"/content/drive/MyDrive/SHL 2021/Train/GPS/GPS.csv\", low_memory=False)"
      ],
      "execution_count": null,
      "outputs": []
    },
    {
      "cell_type": "code",
      "metadata": {
        "id": "cxhBrUXvNz3D"
      },
      "source": [
        "Label=pd.read_csv(\"/content/drive/MyDrive/SHL 2021/Train/Label/Label.csv\",low_memory=False)"
      ],
      "execution_count": null,
      "outputs": []
    },
    {
      "cell_type": "code",
      "metadata": {
        "id": "LZJRRz14KHw1"
      },
      "source": [
        "GPS[\"Label\"]=-1"
      ],
      "execution_count": null,
      "outputs": []
    },
    {
      "cell_type": "code",
      "metadata": {
        "id": "MKWDy-SbKPCn"
      },
      "source": [
        "flag=0\n",
        "for i in range(len(Label)-1):\n",
        "  print(i, flag)\n",
        "  for j in range(flag,len(GPS)):\n",
        "    print(j)\n",
        "    if (GPS[\"Epoch time[ms]\"][j]>=int(Label[\"Epoch time[ms]\"][i]) and GPS[\"Epoch time[ms]\"][j]<int(Label[\"Epoch time[ms]\"][i+1])):\n",
        "      GPS.loc[j, 'Label']=Label[\"Label\"][i]\n",
        "      flag=j+1\n",
        "      break\n",
        "    elif GPS[\"Epoch time[ms]\"][j]>int(Label[\"Epoch time[ms]\"][i+1]):\n",
        "      break"
      ],
      "execution_count": null,
      "outputs": []
    },
    {
      "cell_type": "code",
      "metadata": {
        "colab": {
          "base_uri": "https://localhost:8080/"
        },
        "id": "B6iKWJoIKoui",
        "outputId": "15e6e742-5df6-41ef-f3b2-4cbbac466ee7"
      },
      "source": [
        "GPS[\"Label\"].value_counts()"
      ],
      "execution_count": null,
      "outputs": [
        {
          "output_type": "execute_result",
          "data": {
            "text/plain": [
              "-1    430078\n",
              " 6    136709\n",
              " 5    127323\n",
              " 2    122695\n",
              " 7    119164\n",
              " 4    117350\n",
              " 8    114656\n",
              " 1    112555\n",
              " 3     42219\n",
              "Name: Label, dtype: int64"
            ]
          },
          "metadata": {
            "tags": []
          },
          "execution_count": 7
        }
      ]
    },
    {
      "cell_type": "code",
      "metadata": {
        "id": "o6h1KRQNbHiF"
      },
      "source": [
        "Final_GPS=GPS[GPS['Label']!=-1]"
      ],
      "execution_count": null,
      "outputs": []
    },
    {
      "cell_type": "code",
      "metadata": {
        "id": "tmAlA0dPFEfa"
      },
      "source": [
        "Final_GPS.to_csv(\"/content/drive/MyDrive/SHL 2021/Train/GPS/GPS with label.csv\",index=False)"
      ],
      "execution_count": null,
      "outputs": []
    }
  ]
}